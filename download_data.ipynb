{
 "cells": [
  {
   "cell_type": "code",
   "execution_count": 12,
   "id": "f17bdd03-8010-416a-b819-afbfd6b91885",
   "metadata": {},
   "outputs": [
    {
     "name": "stdout",
     "output_type": "stream",
     "text": [
      "Download Complete\n",
      "Transformation Complete\n"
     ]
    }
   ],
   "source": [
    "from ftplib import FTP\n",
    "import os\n",
    "\n",
    "def create_data_directory(directory = 'data'):\n",
    "    if os.path.exists(directory):\n",
    "        if not os.path.isdir(directory):\n",
    "            os.remove(directory)\n",
    "            os.makedirs(directory)\n",
    "    else: \n",
    "            os.makedirs(directory)\n",
    "\n",
    "def download_data():\n",
    "    filenames = [\n",
    "        'mfundslist.txt',\n",
    "        'nasdaqlisted.txt'\n",
    "    ]\n",
    "\n",
    "    with FTP('ftp.nasdaqtrader.com') as ftp:\n",
    "        ftp.login()\n",
    "        ftp.cwd('symboldirectory')\n",
    "\n",
    "        for filename in filenames:\n",
    "            ftp.retrbinary(\n",
    "                f\"RETR {filename}\",\n",
    "                open(f\"data/{filename}\", 'wb').write\n",
    "            )\n",
    "\n",
    "        ftp.close()\n",
    "        \n",
    "def transform_data():\n",
    "    filenames = [\n",
    "        'mfundslist.txt',\n",
    "        'nasdaqlisted.txt'\n",
    "    ]\n",
    "    \n",
    "    for filename in filenames:\n",
    "        old_lines = []\n",
    "        with open(f\"data/{filename}\", 'r') as file:\n",
    "            old_lines = [line.rstrip() for line in file]\n",
    "        \n",
    "        # Discard header and timestamp rows.\n",
    "        del old_lines[0]\n",
    "        del old_lines[len(old_lines) - 1]\n",
    "        \n",
    "        # Extract symbols\n",
    "        new_lines = []\n",
    "        for line in old_lines:\n",
    "            new_lines.append(line.split('|')[0])\n",
    "            \n",
    "        # Write to file\n",
    "        with open(f\"data/{filename}\", 'w') as file:\n",
    "            for line in new_lines:\n",
    "                file.write(f\"{line}\\n\")\n",
    "\n",
    "def main():\n",
    "    create_data_directory()\n",
    "    download_data()\n",
    "    print('Download Complete')\n",
    "    transform_data()\n",
    "    print('Transformation Complete')\n",
    "    \n",
    "if __name__ == '__main__':\n",
    "    main()"
   ]
  },
  {
   "cell_type": "code",
   "execution_count": null,
   "id": "bde7089e-79ee-44f2-b4f8-77ff1af2a776",
   "metadata": {},
   "outputs": [],
   "source": []
  }
 ],
 "metadata": {
  "kernelspec": {
   "display_name": "Python 3 (ipykernel)",
   "language": "python",
   "name": "python3"
  },
  "language_info": {
   "codemirror_mode": {
    "name": "ipython",
    "version": 3
   },
   "file_extension": ".py",
   "mimetype": "text/x-python",
   "name": "python",
   "nbconvert_exporter": "python",
   "pygments_lexer": "ipython3",
   "version": "3.10.6"
  }
 },
 "nbformat": 4,
 "nbformat_minor": 5
}
